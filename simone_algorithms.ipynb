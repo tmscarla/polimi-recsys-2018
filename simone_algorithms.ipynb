{
 "cells": [
  {
   "cell_type": "markdown",
   "metadata": {},
   "source": [
    "## POLIMI RECSYS CHALLANGE 2018\n",
    "#### (SIMONE'S ALGORITHMS)"
   ]
  },
  {
   "cell_type": "markdown",
   "metadata": {},
   "source": [
    "#### IMPORTS"
   ]
  },
  {
   "cell_type": "code",
   "execution_count": 1,
   "metadata": {},
   "outputs": [],
   "source": [
    "import similaripy as sim\n",
    "import scipy.sparse as sps\n",
    "import numpy as np\n",
    "import pandas as pd\n",
    "from tqdm import tqdm\n",
    "import utils.pre_processing as pre\n",
    "from datareader import Datareader\n",
    "from evaluator import Evaluator"
   ]
  },
  {
   "cell_type": "markdown",
   "metadata": {},
   "source": [
    "#### COMMON DATA IN ALL ALGORITHMS"
   ]
  },
  {
   "cell_type": "code",
   "execution_count": 2,
   "metadata": {},
   "outputs": [],
   "source": [
    "dr = Datareader()\n",
    "ev = Evaluator()\n",
    "urm = dr.get_urm()\n",
    "t_ids = dr.target_playlists\n",
    "verbose = False"
   ]
  },
  {
   "cell_type": "markdown",
   "metadata": {},
   "source": [
    "### LISBON"
   ]
  },
  {
   "cell_type": "code",
   "execution_count": 3,
   "metadata": {},
   "outputs": [
    {
     "name": "stdout",
     "output_type": "stream",
     "text": [
      "LISBON MAP@10 --> 0.08374\n"
     ]
    }
   ],
   "source": [
    "### LISBON ###\n",
    "### CF IB\n",
    "s = sim.tversky(pre.bm25_row(urm.T), pre.bm25_col(urm), k=1000, alpha=0.50, beta=0.40, verbose=verbose)\n",
    "s.data=np.power(s.data, 0.85)\n",
    "r_cop = sim.dot_product(urm, s, target_rows=t_ids, k=500, verbose=verbose)\n",
    "score = ev.evaluation(r_cop,urm,dr,save=True, name='lisbon')\n",
    "print('LISBON MAP@10 --> %.5f'%(score))"
   ]
  },
  {
   "cell_type": "markdown",
   "metadata": {},
   "source": [
    "### COPENHAGEN"
   ]
  },
  {
   "cell_type": "markdown",
   "metadata": {},
   "source": [
    "#### BEST CF IB"
   ]
  },
  {
   "cell_type": "code",
   "execution_count": 4,
   "metadata": {},
   "outputs": [
    {
     "name": "stdout",
     "output_type": "stream",
     "text": [
      "0.08394\n"
     ]
    }
   ],
   "source": [
    "### CF IB\n",
    "s = sim.tversky(pre.bm25_row(urm.T), pre.bm25_col(urm), k=5000, alpha=0.30, beta=0.50, verbose=verbose, format_output='csr')\n",
    "s.data=np.power(s.data, 0.75)\n",
    "r_cfib = sim.dot_product(urm, s.T, target_rows=t_ids, k=500, verbose=verbose)\n",
    "score = ev.evaluation(r_cfib,urm,dr,save=False, name='best_cf_ib')\n",
    "print('%.5f'%(score))"
   ]
  },
  {
   "cell_type": "markdown",
   "metadata": {},
   "source": [
    "#### BEST CF UB"
   ]
  },
  {
   "cell_type": "code",
   "execution_count": 5,
   "metadata": {},
   "outputs": [
    {
     "name": "stdout",
     "output_type": "stream",
     "text": [
      "0.08316\n"
     ]
    }
   ],
   "source": [
    "### CF UB\n",
    "s = sim.tversky(pre.bm25_row(urm), pre.bm25_col(urm.T), alpha=1, beta=1, k=70, shrink=0, target_rows=t_ids, verbose=verbose)\n",
    "s.data=np.power(s.data, 2.1)\n",
    "r_cfub = sim.dot_product(s, urm, k=500, verbose=verbose)\n",
    "score = ev.evaluation(r_cfub,urm,dr,save=False, name='best_cf_ub')\n",
    "print('%.5f'%(score))"
   ]
  },
  {
   "cell_type": "markdown",
   "metadata": {},
   "source": [
    "#### ENSEMBLE CF_IB + CF_UB "
   ]
  },
  {
   "cell_type": "code",
   "execution_count": 6,
   "metadata": {},
   "outputs": [
    {
     "name": "stdout",
     "output_type": "stream",
     "text": [
      "0.08713\n"
     ]
    }
   ],
   "source": [
    "r_cf = r_cfib + 3.15*r_cfub\n",
    "score = ev.evaluation(r_cf,urm,dr,save=False, name='ensemble_cf')\n",
    "print('%.5f'%(score))"
   ]
  },
  {
   "cell_type": "markdown",
   "metadata": {},
   "source": [
    "#### CB AR (NOT USED)"
   ]
  },
  {
   "cell_type": "code",
   "execution_count": 7,
   "metadata": {},
   "outputs": [
    {
     "name": "stdout",
     "output_type": "stream",
     "text": [
      "0.02206\n"
     ]
    }
   ],
   "source": [
    "icm = dr.get_icm(alid=False, arid=True)\n",
    "s = sim.dot_product(pre.bm25_col(icm), pre.bm25_col(icm.T), k=55, verbose=verbose, format_output='csr')\n",
    "s.data=np.power(s.data, 0.7)\n",
    "r_cb_ar = sim.dot_product(urm, s.T, target_rows=t_ids, k=500, verbose=verbose)\n",
    "score = ev.evaluation(r_cb_ar,urm,dr,save=False, name='best_cb_ar')\n",
    "print('%.5f'%(score))"
   ]
  },
  {
   "cell_type": "markdown",
   "metadata": {},
   "source": [
    "#### CB AL (NOT USED)"
   ]
  },
  {
   "cell_type": "code",
   "execution_count": 8,
   "metadata": {},
   "outputs": [
    {
     "name": "stdout",
     "output_type": "stream",
     "text": [
      "0.03899\n"
     ]
    }
   ],
   "source": [
    "icm = dr.get_icm(alid=True, arid=False)\n",
    "s = sim.dot_product(pre.bm25_col(icm), bm25_col(icm.T), k=15, verbose=verbose, format_output='csr')\n",
    "s.data=np.power(s.data, 0.8)\n",
    "r_cb_al = sim.dot_product(urm, s.T, target_rows=t_ids, k=500, verbose=verbose)\n",
    "score = ev.evaluation(r_cb_al,urm,dr,save=False, name='best_cb.csv')\n",
    "print('%.5f'%(score))"
   ]
  },
  {
   "cell_type": "markdown",
   "metadata": {},
   "source": [
    "#### CB AL AR"
   ]
  },
  {
   "cell_type": "code",
   "execution_count": 9,
   "metadata": {},
   "outputs": [
    {
     "name": "stdout",
     "output_type": "stream",
     "text": [
      "0.04113\n"
     ]
    }
   ],
   "source": [
    "icm_al = dr.get_icm(alid=True, arid=False)\n",
    "icm_ar = dr.get_icm(alid=False, arid=True)\n",
    "icm = sps.hstack([icm_al*1, icm_ar*0.4])\n",
    "s = sim.dot_product(pre.bm25_col(icm), bm25_col(icm.T), k=31, verbose=verbose, format_output='csr')\n",
    "s.data=np.power(s.data, 0.8)\n",
    "r_cb = sim.dot_product(urm, s.T, target_rows=t_ids, k=500, verbose=verbose)\n",
    "score = ev.evaluation(r_cb,urm,dr,save=False, name='best_cb.csv')\n",
    "print('%.5f'%(score))"
   ]
  },
  {
   "cell_type": "markdown",
   "metadata": {},
   "source": [
    "#### ENSEMBLES"
   ]
  },
  {
   "cell_type": "code",
   "execution_count": 10,
   "metadata": {},
   "outputs": [
    {
     "name": "stdout",
     "output_type": "stream",
     "text": [
      "0.08959\n"
     ]
    }
   ],
   "source": [
    "# best ensemble without pre normalization on eurms\n",
    "r_tot = r_cf + 0.0133*r_cb\n",
    "score = ev.evaluation(r_tot,urm,dr,save=False, name='not_used')\n",
    "print('%.5f'%(score))"
   ]
  },
  {
   "cell_type": "code",
   "execution_count": 11,
   "metadata": {},
   "outputs": [
    {
     "name": "stdout",
     "output_type": "stream",
     "text": [
      "COPENHAGEN MAP@10 --> 0.08980\n"
     ]
    }
   ],
   "source": [
    "# best ensemble with pre normalization l1 on eurms\n",
    "r1=pre.norm_l1_row(r_cf.tocsr())\n",
    "r2=pre.norm_l1_row(r_cb.tocsr())\n",
    "r_tot = r1 + 0.04127*r2\n",
    "score = ev.evaluation(r_tot,urm,dr,save=True, name='copenhagen')\n",
    "print('COPENHAGEN MAP@10 --> %.5f'%(score))"
   ]
  },
  {
   "cell_type": "markdown",
   "metadata": {},
   "source": [
    "### TUNING UTILITIES"
   ]
  },
  {
   "cell_type": "code",
   "execution_count": null,
   "metadata": {},
   "outputs": [],
   "source": [
    "# normalizations pre ensemble\n",
    "r1=pre.norm_max_row(r_cf.tocsr())\n",
    "r2=pre.norm_max_row(r_cb.tocsr())\n",
    "r3=pre.norm_max_row(r_cb_al.tocsr())\n",
    "r4=pre.norm_max_row(r_cb_ar.tocsr())"
   ]
  },
  {
   "cell_type": "code",
   "execution_count": null,
   "metadata": {},
   "outputs": [],
   "source": [
    "# tune ensemble\n",
    "for a in np.arange(0.04,0.05,0.001):\n",
    "    r = r1+ a*r2\n",
    "    score = ev.evaluation(r,urm,dr,save=False, name='ensemble')\n",
    "    print('%.5f --> a: %.5f'%(score,a))"
   ]
  },
  {
   "cell_type": "code",
   "execution_count": null,
   "metadata": {},
   "outputs": [],
   "source": [
    "# tune alpha beta\n",
    "for a in np.arange(0.0,1.1,0.1):\n",
    "    for b in np.arange(0.0,1.1,0.1):\n",
    "        s = sim.tversky(urm, k=250, alpha=a, beta=b, verbose=verbose, target_rows=t_ids)\n",
    "        eurm = sim.dot_product(s, urm, k=500, verbose=verbose)\n",
    "        score = ev.evaluation(eurm,urm,dr)\n",
    "        print('%.5f --> a: %.2f   b: %.2f'%(score,a,b))"
   ]
  }
 ],
 "metadata": {
  "kernelspec": {
   "display_name": "Python 3",
   "language": "python",
   "name": "python3"
  },
  "language_info": {
   "codemirror_mode": {
    "name": "ipython",
    "version": 3
   },
   "file_extension": ".py",
   "mimetype": "text/x-python",
   "name": "python",
   "nbconvert_exporter": "python",
   "pygments_lexer": "ipython3",
   "version": "3.6.4"
  }
 },
 "nbformat": 4,
 "nbformat_minor": 2
}
